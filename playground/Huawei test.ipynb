{
 "cells": [
  {
   "cell_type": "code",
   "execution_count": 1,
   "metadata": {},
   "outputs": [],
   "source": [
    "import math\n",
    "import math as m\n",
    "from math import e"
   ]
  },
  {
   "cell_type": "code",
   "execution_count": 2,
   "metadata": {},
   "outputs": [
    {
     "name": "stdout",
     "output_type": "stream",
     "text": [
      "2.718281828459045\n",
      "2.718281828459045\n",
      "2.718281828459045\n"
     ]
    }
   ],
   "source": [
    "print(math.e)\n",
    "print(m.e)\n",
    "print(e)"
   ]
  },
  {
   "cell_type": "code",
   "execution_count": 3,
   "metadata": {},
   "outputs": [
    {
     "data": {
      "text/plain": [
       "2.7183"
      ]
     },
     "execution_count": 3,
     "metadata": {},
     "output_type": "execute_result"
    }
   ],
   "source": [
    "round(e, 4)"
   ]
  },
  {
   "cell_type": "code",
   "execution_count": 4,
   "metadata": {},
   "outputs": [
    {
     "name": "stdout",
     "output_type": "stream",
     "text": [
      "0b10111\n",
      "0o27\n",
      "0x17\n",
      "23\n"
     ]
    }
   ],
   "source": [
    "print(bin(23))\n",
    "print(oct(23))\n",
    "print(hex(23))\n",
    "print(str(23))"
   ]
  },
  {
   "cell_type": "code",
   "execution_count": 5,
   "metadata": {},
   "outputs": [
    {
     "data": {
      "text/plain": [
       "int"
      ]
     },
     "execution_count": 5,
     "metadata": {},
     "output_type": "execute_result"
    }
   ],
   "source": [
    "a = 100 // 7\n",
    "type(a)"
   ]
  },
  {
   "cell_type": "code",
   "execution_count": 23,
   "metadata": {},
   "outputs": [
    {
     "name": "stdout",
     "output_type": "stream",
     "text": [
      "00000000000003.14159\n"
     ]
    }
   ],
   "source": [
    "print(format(math.pi, \"020.5f\"))"
   ]
  },
  {
   "cell_type": "code",
   "execution_count": 7,
   "metadata": {},
   "outputs": [
    {
     "name": "stdout",
     "output_type": "stream",
     "text": [
      "0 0 0 0 0 0 0 0 0 0 0 0 0 0 0\n",
      "0 0 0 0 0 0 0 0 0 0 0 0 0 0 0\n",
      "0 0 0 0 0 0 0 0 0 0 0 0 0 0 0\n",
      "0 0 0 0 0 0 0 0 0 0 0 0 0 0 0\n",
      "0 0 0 0 0 0 0 0 0 0 0 0 0 0 0\n",
      "0 0 0 0 0 0 0 0 0 0 0 0 0 0 0\n",
      "0 0 0 0 0 0 0 0 0 0 0 0 0 0 0\n",
      "0 0 0 0 0 0 0 0 0 0 0 0 0 0 0\n",
      "0 0 0 0 0 0 0 0 0 0 0 0 0 0 0\n",
      "0 0 0 0 0 0 0 0 0 0 0 0 0 0 0\n"
     ]
    }
   ],
   "source": [
    "l = [[0 for j in range(15)] for i in range(10)]\n",
    "print(\"\\n\".join(list(map(lambda line: \" \".join(list(map(lambda c: str(c), line))), l))))"
   ]
  },
  {
   "cell_type": "code",
   "execution_count": 8,
   "metadata": {},
   "outputs": [
    {
     "data": {
      "text/plain": [
       "[144, 64, 36, 16]"
      ]
     },
     "execution_count": 8,
     "metadata": {},
     "output_type": "execute_result"
    }
   ],
   "source": [
    "l = [x ** 2 for x in reversed(range(4,13,2)) if x % 5 != 0]\n",
    "l"
   ]
  },
  {
   "cell_type": "code",
   "execution_count": 9,
   "metadata": {},
   "outputs": [
    {
     "data": {
      "text/plain": [
       "[64, 36, 16, 144]"
      ]
     },
     "execution_count": 9,
     "metadata": {},
     "output_type": "execute_result"
    }
   ],
   "source": [
    "l.sort(key = lambda x: abs(x - 50))\n",
    "l"
   ]
  },
  {
   "cell_type": "code",
   "execution_count": 10,
   "metadata": {},
   "outputs": [
    {
     "name": "stdout",
     "output_type": "stream",
     "text": [
      "a b c d e f g h i j k l m n o p q r s t u v w x y z\n"
     ]
    }
   ],
   "source": [
    "s = {chr(x) for x in range(ord(\"a\"), ord(\"z\") + 1)}\n",
    "print(\" \".join(sorted(s)))"
   ]
  },
  {
   "cell_type": "code",
   "execution_count": 11,
   "metadata": {},
   "outputs": [
    {
     "name": "stdout",
     "output_type": "stream",
     "text": [
      "a e i o u y\n"
     ]
    }
   ],
   "source": [
    "vowels = {\"a\", \"e\", \"i\", \"o\", \"u\", \"y\"}\n",
    "print(\" \".join(sorted(vowels)))"
   ]
  },
  {
   "cell_type": "code",
   "execution_count": 12,
   "metadata": {},
   "outputs": [
    {
     "name": "stdout",
     "output_type": "stream",
     "text": [
      "b c d f g h j k l m n p q r s t v w x z\n"
     ]
    }
   ],
   "source": [
    "cons = s.difference(vowels)\n",
    "print(\" \".join(sorted(cons)))"
   ]
  },
  {
   "cell_type": "code",
   "execution_count": 13,
   "metadata": {},
   "outputs": [],
   "source": [
    "def binary_search(a, b):\n",
    "    r = max(a,b)\n",
    "    l = min(a,b)\n",
    "    r += 1\n",
    "    print(r - l)\n",
    "    while (r - l > 1):\n",
    "        m = (l + r) // 2\n",
    "        ans = input(str(m) + \"?\\n\")\n",
    "        if (ans == \"=\"):\n",
    "            return m\n",
    "        elif (ans == \">\"):\n",
    "            l = m + 1\n",
    "        elif (ans == \"<\"):\n",
    "            r = m\n",
    "        else:\n",
    "            print(\"Unknown input, type '<', '=' or '>' for your number less, equal, or more than the given one.\")\n",
    "    if (r <= l):\n",
    "            print(\"No such number\")\n",
    "            return\n",
    "    return l"
   ]
  },
  {
   "cell_type": "code",
   "execution_count": 14,
   "metadata": {},
   "outputs": [
    {
     "name": "stdout",
     "output_type": "stream",
     "text": [
      "2\n",
      "2?\n",
      "=\n"
     ]
    },
    {
     "data": {
      "text/plain": [
       "2"
      ]
     },
     "execution_count": 14,
     "metadata": {},
     "output_type": "execute_result"
    }
   ],
   "source": [
    "binary_search(1,2)"
   ]
  },
  {
   "cell_type": "code",
   "execution_count": 15,
   "metadata": {},
   "outputs": [],
   "source": [
    "def roots(a = 0, b = 0, c = 0):\n",
    "    if a == 0:\n",
    "        if b == 0:\n",
    "            if c == 0:\n",
    "                print(\"All the real numbers are roots\")\n",
    "                return []\n",
    "            else:\n",
    "                return []\n",
    "        else:\n",
    "            return [-c/b]\n",
    "    d = b ** 2 - 4 * a * c\n",
    "    if (d < 0):\n",
    "        return []\n",
    "    elif (d == 0):\n",
    "        return [-b / (2*a)]\n",
    "    else:\n",
    "        return [(-b+m.sqrt(d))/ (2*a), (-b-m.sqrt(d))/ (2*a)]\n",
    "    "
   ]
  },
  {
   "cell_type": "code",
   "execution_count": 16,
   "metadata": {},
   "outputs": [],
   "source": [
    "def count_diff_sign(*args):\n",
    "    return sum([1 if arg < 0 else -1 if arg > 0 else 0 for arg in args])"
   ]
  },
  {
   "cell_type": "code",
   "execution_count": 17,
   "metadata": {},
   "outputs": [
    {
     "data": {
      "text/plain": [
       "-2"
      ]
     },
     "execution_count": 17,
     "metadata": {},
     "output_type": "execute_result"
    }
   ],
   "source": [
    "count_diff_sign(1,1, -14,40,0)"
   ]
  },
  {
   "cell_type": "code",
   "execution_count": 18,
   "metadata": {},
   "outputs": [],
   "source": [
    "def count_diff_sign_filter(*args):\n",
    "    return sum([1 if arg < 0 else -1 if arg > 0 else 0 for arg in args if isinstance(arg, int) or isinstance(arg, float)])"
   ]
  },
  {
   "cell_type": "code",
   "execution_count": 19,
   "metadata": {},
   "outputs": [
    {
     "name": "stdout",
     "output_type": "stream",
     "text": [
      "-2\n"
     ]
    }
   ],
   "source": [
    "print(count_diff_sign_filter(1,2,list(), [1,2,3], set(), {}))"
   ]
  },
  {
   "cell_type": "code",
   "execution_count": 20,
   "metadata": {},
   "outputs": [],
   "source": [
    "class Point:\n",
    "    def __init__(self, x,y):\n",
    "        self.x = x\n",
    "        self.y = y"
   ]
  },
  {
   "cell_type": "code",
   "execution_count": 21,
   "metadata": {},
   "outputs": [],
   "source": [
    "class Circle(Point):\n",
    "    def __init__(self, x, y, r):\n",
    "        self.r = r\n",
    "        super().__init__(x,y)\n",
    "    \n",
    "    def inside(self, p):\n",
    "        return (p.x - self.x) ** 2 + (p.y - self.y) ** 2 <= self.r ** 2"
   ]
  }
 ],
 "metadata": {
  "kernelspec": {
   "display_name": "Python 3",
   "language": "python",
   "name": "python3"
  },
  "language_info": {
   "codemirror_mode": {
    "name": "ipython",
    "version": 3
   },
   "file_extension": ".py",
   "mimetype": "text/x-python",
   "name": "python",
   "nbconvert_exporter": "python",
   "pygments_lexer": "ipython3",
   "version": "3.7.1"
  }
 },
 "nbformat": 4,
 "nbformat_minor": 2
}
