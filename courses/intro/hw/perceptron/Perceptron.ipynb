{
 "cells": [
  {
   "cell_type": "code",
   "execution_count": 2,
   "metadata": {},
   "outputs": [],
   "source": [
    "import numpy as np\n",
    "from sklearn import *\n",
    "import sklearn as sl\n",
    "import pandas as pd"
   ]
  },
  {
   "cell_type": "code",
   "execution_count": 29,
   "metadata": {},
   "outputs": [
    {
     "name": "stdout",
     "output_type": "stream",
     "text": [
      "Quality before normalizing: 0.655\n",
      "Quality after normalizing: 0.845\n",
      "Increase of 19.0 %\n"
     ]
    },
    {
     "name": "stderr",
     "output_type": "stream",
     "text": [
      "d:\\program files\\python\\lib\\site-packages\\sklearn\\linear_model\\stochastic_gradient.py:166: FutureWarning: max_iter and tol parameters have been added in Perceptron in 0.19. If both are left unset, they default to max_iter=5 and tol=None. If tol is not None, max_iter defaults to max_iter=1000. From 0.21, default max_iter will be 1000, and default tol will be 1e-3.\n",
      "  FutureWarning)\n",
      "d:\\program files\\python\\lib\\site-packages\\sklearn\\linear_model\\stochastic_gradient.py:166: FutureWarning: max_iter and tol parameters have been added in Perceptron in 0.19. If both are left unset, they default to max_iter=5 and tol=None. If tol is not None, max_iter defaults to max_iter=1000. From 0.21, default max_iter will be 1000, and default tol will be 1e-3.\n",
      "  FutureWarning)\n"
     ]
    }
   ],
   "source": [
    "train = pd.read_csv(\"perceptron-train.csv\", header=None)\n",
    "test = pd.read_csv(\"perceptron-test.csv\", header=None)\n",
    "scaler = sl.preprocessing.StandardScaler()\n",
    "\n",
    "def learn_try(train, test):\n",
    "    answers = train[0]\n",
    "    data = train.drop(columns=[0])\n",
    "    p = sl.linear_model.Perceptron(random_state=241)\n",
    "    p.fit(data, answers)\n",
    "    predictions = p.predict(test.drop(columns=[0]))\n",
    "    return sl.metrics.accuracy_score(predictions, test[0])\n",
    "    \n",
    "unnorm = learn_try(train,test)\n",
    "train[[1,2]] = scaler.fit_transform(train.drop(columns=[0]))\n",
    "test[[1,2]] = scaler.transform(test.drop(columns=[0]))\n",
    "norm = learn_try(train, test)\n",
    "print(\"Quality before normalizing:\", unnorm)\n",
    "print(\"Quality after normalizing:\",norm)\n",
    "print(\"Increase of\", round((norm - unnorm)*100, 1), \"%\")"
   ]
  }
 ],
 "metadata": {
  "kernelspec": {
   "display_name": "Python 3",
   "language": "python",
   "name": "python3"
  },
  "language_info": {
   "codemirror_mode": {
    "name": "ipython",
    "version": 3
   },
   "file_extension": ".py",
   "mimetype": "text/x-python",
   "name": "python",
   "nbconvert_exporter": "python",
   "pygments_lexer": "ipython3",
   "version": "3.7.0"
  }
 },
 "nbformat": 4,
 "nbformat_minor": 2
}
