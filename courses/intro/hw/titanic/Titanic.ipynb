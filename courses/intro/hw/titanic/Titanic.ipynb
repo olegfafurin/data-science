{
 "cells": [
  {
   "cell_type": "code",
   "execution_count": 93,
   "metadata": {},
   "outputs": [],
   "source": [
    "%matplotlib inline\n",
    "import pandas\n",
    "data = pandas.read_csv(\"train.csv\", index_col = \"PassengerId\")"
   ]
  },
  {
   "cell_type": "code",
   "execution_count": 95,
   "metadata": {
    "scrolled": true
   },
   "outputs": [
    {
     "data": {
      "text/html": [
       "<div>\n",
       "<style scoped>\n",
       "    .dataframe tbody tr th:only-of-type {\n",
       "        vertical-align: middle;\n",
       "    }\n",
       "\n",
       "    .dataframe tbody tr th {\n",
       "        vertical-align: top;\n",
       "    }\n",
       "\n",
       "    .dataframe thead th {\n",
       "        text-align: right;\n",
       "    }\n",
       "</style>\n",
       "<table border=\"1\" class=\"dataframe\">\n",
       "  <thead>\n",
       "    <tr style=\"text-align: right;\">\n",
       "      <th></th>\n",
       "      <th>Survived</th>\n",
       "      <th>Pclass</th>\n",
       "      <th>Name</th>\n",
       "      <th>Sex</th>\n",
       "      <th>Age</th>\n",
       "      <th>SibSp</th>\n",
       "      <th>Parch</th>\n",
       "      <th>Ticket</th>\n",
       "      <th>Fare</th>\n",
       "      <th>Cabin</th>\n",
       "      <th>Embarked</th>\n",
       "    </tr>\n",
       "    <tr>\n",
       "      <th>PassengerId</th>\n",
       "      <th></th>\n",
       "      <th></th>\n",
       "      <th></th>\n",
       "      <th></th>\n",
       "      <th></th>\n",
       "      <th></th>\n",
       "      <th></th>\n",
       "      <th></th>\n",
       "      <th></th>\n",
       "      <th></th>\n",
       "      <th></th>\n",
       "    </tr>\n",
       "  </thead>\n",
       "  <tbody>\n",
       "    <tr>\n",
       "      <th>1</th>\n",
       "      <td>0</td>\n",
       "      <td>3</td>\n",
       "      <td>Braund, Mr. Owen Harris</td>\n",
       "      <td>male</td>\n",
       "      <td>22.0</td>\n",
       "      <td>1</td>\n",
       "      <td>0</td>\n",
       "      <td>A/5 21171</td>\n",
       "      <td>7.2500</td>\n",
       "      <td>NaN</td>\n",
       "      <td>S</td>\n",
       "    </tr>\n",
       "    <tr>\n",
       "      <th>2</th>\n",
       "      <td>1</td>\n",
       "      <td>1</td>\n",
       "      <td>Cumings, Mrs. John Bradley (Florence Briggs Th...</td>\n",
       "      <td>female</td>\n",
       "      <td>38.0</td>\n",
       "      <td>1</td>\n",
       "      <td>0</td>\n",
       "      <td>PC 17599</td>\n",
       "      <td>71.2833</td>\n",
       "      <td>C85</td>\n",
       "      <td>C</td>\n",
       "    </tr>\n",
       "    <tr>\n",
       "      <th>3</th>\n",
       "      <td>1</td>\n",
       "      <td>3</td>\n",
       "      <td>Heikkinen, Miss. Laina</td>\n",
       "      <td>female</td>\n",
       "      <td>26.0</td>\n",
       "      <td>0</td>\n",
       "      <td>0</td>\n",
       "      <td>STON/O2. 3101282</td>\n",
       "      <td>7.9250</td>\n",
       "      <td>NaN</td>\n",
       "      <td>S</td>\n",
       "    </tr>\n",
       "    <tr>\n",
       "      <th>4</th>\n",
       "      <td>1</td>\n",
       "      <td>1</td>\n",
       "      <td>Futrelle, Mrs. Jacques Heath (Lily May Peel)</td>\n",
       "      <td>female</td>\n",
       "      <td>35.0</td>\n",
       "      <td>1</td>\n",
       "      <td>0</td>\n",
       "      <td>113803</td>\n",
       "      <td>53.1000</td>\n",
       "      <td>C123</td>\n",
       "      <td>S</td>\n",
       "    </tr>\n",
       "    <tr>\n",
       "      <th>5</th>\n",
       "      <td>0</td>\n",
       "      <td>3</td>\n",
       "      <td>Allen, Mr. William Henry</td>\n",
       "      <td>male</td>\n",
       "      <td>35.0</td>\n",
       "      <td>0</td>\n",
       "      <td>0</td>\n",
       "      <td>373450</td>\n",
       "      <td>8.0500</td>\n",
       "      <td>NaN</td>\n",
       "      <td>S</td>\n",
       "    </tr>\n",
       "  </tbody>\n",
       "</table>\n",
       "</div>"
      ],
      "text/plain": [
       "             Survived  Pclass  \\\n",
       "PassengerId                     \n",
       "1                   0       3   \n",
       "2                   1       1   \n",
       "3                   1       3   \n",
       "4                   1       1   \n",
       "5                   0       3   \n",
       "\n",
       "                                                          Name     Sex   Age  \\\n",
       "PassengerId                                                                    \n",
       "1                                      Braund, Mr. Owen Harris    male  22.0   \n",
       "2            Cumings, Mrs. John Bradley (Florence Briggs Th...  female  38.0   \n",
       "3                                       Heikkinen, Miss. Laina  female  26.0   \n",
       "4                 Futrelle, Mrs. Jacques Heath (Lily May Peel)  female  35.0   \n",
       "5                                     Allen, Mr. William Henry    male  35.0   \n",
       "\n",
       "             SibSp  Parch            Ticket     Fare Cabin Embarked  \n",
       "PassengerId                                                          \n",
       "1                1      0         A/5 21171   7.2500   NaN        S  \n",
       "2                1      0          PC 17599  71.2833   C85        C  \n",
       "3                0      0  STON/O2. 3101282   7.9250   NaN        S  \n",
       "4                1      0            113803  53.1000  C123        S  \n",
       "5                0      0            373450   8.0500   NaN        S  "
      ]
     },
     "execution_count": 95,
     "metadata": {},
     "output_type": "execute_result"
    }
   ],
   "source": [
    "data.head()"
   ]
  },
  {
   "cell_type": "code",
   "execution_count": 99,
   "metadata": {},
   "outputs": [
    {
     "data": {
      "text/plain": [
       "3    491\n",
       "1    216\n",
       "2    184\n",
       "Name: Pclass, dtype: int64"
      ]
     },
     "execution_count": 99,
     "metadata": {},
     "output_type": "execute_result"
    }
   ],
   "source": [
    "data[\"Pclass\"].value_counts()"
   ]
  },
  {
   "cell_type": "code",
   "execution_count": 121,
   "metadata": {},
   "outputs": [
    {
     "data": {
      "text/plain": [
       "8.0500     43\n",
       "13.0000    42\n",
       "7.8958     38\n",
       "7.7500     34\n",
       "26.0000    31\n",
       "Name: Fare, dtype: int64"
      ]
     },
     "execution_count": 121,
     "metadata": {},
     "output_type": "execute_result"
    }
   ],
   "source": [
    "data[\"Fare\"].value_counts().head()"
   ]
  },
  {
   "cell_type": "code",
   "execution_count": 101,
   "metadata": {},
   "outputs": [
    {
     "data": {
      "text/plain": [
       "<matplotlib.axes._subplots.AxesSubplot at 0x572b1438>"
      ]
     },
     "execution_count": 101,
     "metadata": {},
     "output_type": "execute_result"
    },
    {
     "data": {
      "image/png": "[encoded data removed]",
      "text/plain": [
       "<Figure size 432x288 with 1 Axes>"
      ]
     },
     "metadata": {
      "needs_background": "light"
     },
     "output_type": "display_data"
    }
   ],
   "source": [
    "data['Survived'].value_counts().plot(kind='bar', color=\"orange\", alpha=.95)"
   ]
  },
  {
   "cell_type": "code",
   "execution_count": 102,
   "metadata": {},
   "outputs": [],
   "source": [
    "import math, numpy as np"
   ]
  },
  {
   "cell_type": "code",
   "execution_count": 105,
   "metadata": {},
   "outputs": [
    {
     "data": {
      "text/plain": [
       "PassengerId\n",
       "1     7.2500\n",
       "2    71.2833\n",
       "3     7.9250\n",
       "4    53.1000\n",
       "5     8.0500\n",
       "Name: Fare, dtype: float64"
      ]
     },
     "execution_count": 105,
     "metadata": {},
     "output_type": "execute_result"
    }
   ],
   "source": [
    "data[\"Fare\"].head()"
   ]
  },
  {
   "cell_type": "code",
   "execution_count": 106,
   "metadata": {},
   "outputs": [
    {
     "data": {
      "text/plain": [
       "male      577\n",
       "female    314\n",
       "Name: Sex, dtype: int64"
      ]
     },
     "execution_count": 106,
     "metadata": {},
     "output_type": "execute_result"
    }
   ],
   "source": [
    "data[\"Sex\"].value_counts()"
   ]
  },
  {
   "cell_type": "code",
   "execution_count": 107,
   "metadata": {},
   "outputs": [
    {
     "data": {
      "text/plain": [
       "38.38383838383838"
      ]
     },
     "execution_count": 107,
     "metadata": {},
     "output_type": "execute_result"
    }
   ],
   "source": [
    "len(data[data[\"Survived\"] == 1])/len(data)*100"
   ]
  },
  {
   "cell_type": "code",
   "execution_count": 108,
   "metadata": {},
   "outputs": [
    {
     "data": {
      "text/plain": [
       "24.242424242424242"
      ]
     },
     "execution_count": 108,
     "metadata": {},
     "output_type": "execute_result"
    }
   ],
   "source": [
    "len(data[data[\"Pclass\"] == 1])/len(data)*100"
   ]
  },
  {
   "cell_type": "code",
   "execution_count": 109,
   "metadata": {},
   "outputs": [
    {
     "data": {
      "text/plain": [
       "29.69911764705882"
      ]
     },
     "execution_count": 109,
     "metadata": {},
     "output_type": "execute_result"
    }
   ],
   "source": [
    "data[\"Age\"].mean()"
   ]
  },
  {
   "cell_type": "code",
   "execution_count": 110,
   "metadata": {},
   "outputs": [
    {
     "data": {
      "text/plain": [
       "28.0"
      ]
     },
     "execution_count": 110,
     "metadata": {},
     "output_type": "execute_result"
    }
   ],
   "source": [
    "data[\"Age\"].median()"
   ]
  },
  {
   "cell_type": "code",
   "execution_count": 111,
   "metadata": {},
   "outputs": [
    {
     "data": {
      "text/plain": [
       "0.41483769862015263"
      ]
     },
     "execution_count": 111,
     "metadata": {},
     "output_type": "execute_result"
    }
   ],
   "source": [
    "data.corr()[\"SibSp\"][\"Parch\"]"
   ]
  },
  {
   "cell_type": "code",
   "execution_count": 112,
   "metadata": {},
   "outputs": [],
   "source": [
    "women_names = data[data[\"Sex\"] == \"female\"][\"Name\"]"
   ]
  },
  {
   "cell_type": "code",
   "execution_count": 113,
   "metadata": {},
   "outputs": [],
   "source": [
    "names = list(women_names.values)"
   ]
  },
  {
   "cell_type": "code",
   "execution_count": 114,
   "metadata": {},
   "outputs": [
    {
     "name": "stdout",
     "output_type": "stream",
     "text": [
      "['Florence', 'Laina', 'Lily', 'Elisabeth', 'Adele', 'Marguerite', 'Elizabeth', 'Hulda', 'Mary', 'Emelia', 'Fatima', 'Anna', 'Torborg', 'Selma', 'Ellen', 'Marie', 'Mary', 'Augusta', 'Jamila', 'Johanna', 'Dorothy', 'Simonne', 'Margaret', 'Bridget', 'Josefine', 'Myna', 'Elizabeth', 'Emily', 'Constance', 'Amelie', 'Elizabeth', 'Erna', 'Lillian', 'Elizabeth', 'Brigdet', 'Bertha', 'Maria', 'Mabel', 'Ada', 'Matilda', 'Anna', 'Bertha', 'Hileni', 'Katriina', 'Malake', 'Ellis', 'Susan', 'Anna', 'Grace', 'Mathilde', 'Helen', 'Sultana', 'Anna', 'Elin', 'Robina', 'Edith', 'Katherine', 'Elizabeth', 'Edith', 'Anna', 'Eleanor', 'Ann', 'Constance', 'Luise', 'Johanna', 'Rosa', 'Carla', 'Margaret', 'Elise', 'Margaret', '\"Mrs', 'Telma', 'Helen', 'Clear', 'Madeleine', 'Eliina', 'Albina', 'Mathilde', 'Irene', 'Lillian', 'Alice', 'Marjorie', 'Thamine', 'Katherine', 'Agda', 'Anna', 'Elna', 'Helena', 'Hanne', 'Gertrude', 'Gladys', 'Anna', 'Lutie', 'Delia', 'Edith', 'Amelia', 'Elizabeth', 'Hanora', 'Kornelia', 'Augusta', 'Rosa', 'Kate', 'Ellen', 'Helen', 'Aloisia', 'Helen', 'Helene', 'Anna', 'Nora', 'Margaret', 'Maria', 'Laura', 'Margaret', 'Emily', 'Anna', 'Helmina', 'Miriam', 'Mary', 'Margaretta', 'Hilda', 'Sylvia', 'Marie', 'Ada', 'Emily', 'Jean', 'Agnes', 'Clara', 'Elizabeth', 'Alice', 'Amelia', 'Marion', 'Mary', 'Elsie', 'Annie', 'Mary', 'Helen', 'Catherine', 'Anna', 'Mantoura', 'Annie', 'Leontine', 'Stina', 'Leila', 'Aurora', 'Rosalie', '\"Mary\"', 'Mary', 'Kate', 'Bertha', 'Marjorie', 'Agnes', 'Elina', 'Jessie', 'Mari', 'Marija', 'Ida', 'Daisy', 'Annie', 'Lulu', 'Lyyli', 'Catharina', 'Anna', 'Ada', '\"Mrs', 'Florence', 'Alice', 'Lucile', 'Doolina', 'Emily', 'Esther', 'Encarnacion', 'Madeleine', 'Marie', 'Marion', 'Ellen', 'Helene', 'Ada', 'Marie', 'Ida', 'Hildur', 'Hedwig', 'Jeannie', 'Jane', 'Elizabeth', 'Bessie', 'Mary', 'Bridget', 'Kristina', 'Roberta', 'Jane', 'Elizabeth', 'Amelia', 'Florence', 'Anne', 'Ida', 'Lucy', 'Phyllis', 'Catherine', 'Marija', 'Eva', 'Bertha', 'Hedwig', 'Harriet', 'Ingeborg', 'Sigrid', 'Ethel', 'Velin', 'Lucille', 'Tillie', 'Emma', 'Marion', 'Alma', 'Charlotte', 'Mary', 'Ethel', 'Alice', 'Maria', 'Julie', 'Marian', 'Ruth', 'Martha', 'Mary', 'Jessie', 'Amy', 'Juliette', 'Elizabeth', 'Alfrida', 'Margaret', 'Alice', 'Cordelia', 'Marion', 'Gretchen', 'Mabel', 'Mary', 'Maria', 'Emma', 'Margit', 'Eugenie', 'Amy', 'Elsie', 'Hanora', 'Hanora', 'Catherine', 'Juliet', 'Elizabeth', 'Anna', 'Augusta', 'Katie', 'Georgette', 'Manca', 'Katherine', 'Madeleine', 'Saiide', 'Florence', 'Alice', '\"Mrs', 'Caroline', 'Edwina', 'Annie', 'Lillian', 'Margareth', 'Pieta', 'Elisabeth', 'Margaret', 'Susan', 'Anna', 'Joan', 'Jane', 'Lucy', 'Lucile', 'Anna', 'Mary', 'Mary', 'Eliza', 'Virginia', 'Elisabeth', 'Banoura', 'Vera', 'Anna', 'Stella', 'Farnham', 'Mara', 'Rosalie', 'Charlotte', 'Ellen', 'Bertha', 'Ebba', 'Wendla', 'Clara', 'Beila', 'Martha', 'Selini', 'Sara', 'Augusta', 'Edwiga', 'Nourelain', 'Mary', 'Lilian', 'Leah', 'Mary', 'Latifa', 'Margaret', 'Dorothy', 'Karolina', 'Asuncion', 'Sallie', 'Hannah', 'Adele', 'Lily', 'Imanita', 'Gerda', 'Margaret', 'Margaret', 'Catherine']\n",
      "Anna\n",
      "['Anna', 'Anna', 'Anna', 'Anna', 'Anna', 'Anna', 'Anna', 'Anna', 'Anna', 'Anna', 'Anna', 'Anna', 'Anna', 'Anna', 'Anna', 'Mary', 'Mary', 'Mary', 'Mary', 'Mary', 'Mary', 'Mary', 'Mary', 'Mary', 'Mary', 'Mary', 'Mary', 'Mary', 'Mary', 'Elizabeth', 'Elizabeth', 'Elizabeth', 'Elizabeth', 'Elizabeth', 'Elizabeth', 'Elizabeth', 'Elizabeth', 'Elizabeth', 'Elizabeth', 'Elizabeth', 'Margaret', 'Margaret', 'Margaret', 'Margaret', 'Margaret', 'Margaret', 'Margaret', 'Margaret', 'Margaret', 'Margaret', 'Alice', 'Alice', 'Alice', 'Alice', 'Alice', 'Alice', 'Bertha', 'Bertha', 'Helen', 'Helen', 'Helen', 'Helen', 'Helen', 'Bertha', 'Bertha', 'Bertha', 'Florence', 'Ellen', 'Marie', 'Augusta', 'Emily', 'Maria', 'Ada', 'Augusta', 'Ellen', 'Maria', 'Emily', 'Marie', 'Ada', 'Emily', 'Marion', 'Annie', 'Catherine', 'Annie', 'Annie', 'Ada', 'Florence', 'Emily', 'Marie', 'Marion', 'Ellen', 'Ada', 'Marie', 'Florence', 'Catherine', 'Marion', 'Maria', 'Marion', 'Maria', 'Catherine', 'Augusta', 'Florence', 'Annie', 'Ellen', 'Augusta', 'Catherine', 'Elisabeth', 'Lillian', 'Edith', 'Katherine', 'Edith', '\"Mrs', 'Madeleine', 'Lillian', 'Katherine', 'Edith', 'Amelia', 'Hanora', 'Amelia', 'Ida', '\"Mrs', 'Madeleine', 'Ida', 'Jane', 'Jane', 'Amelia', 'Ida', 'Hanora', 'Hanora', 'Katherine', 'Madeleine', '\"Mrs', 'Lillian', 'Elisabeth', 'Jane', 'Elisabeth', 'Lily', 'Adele', 'Johanna', 'Dorothy', 'Bridget', 'Constance', 'Mabel', 'Susan', 'Mathilde', 'Constance', 'Johanna', 'Rosa', 'Mathilde', 'Marjorie', 'Rosa', 'Kate', 'Helene', 'Agnes', 'Clara', 'Elsie', 'Rosalie', 'Kate', 'Marjorie', 'Agnes', 'Jessie', 'Marija', 'Lucile', 'Helene', 'Hedwig', 'Bridget', 'Lucy', 'Marija', 'Hedwig', 'Ethel', 'Emma', 'Charlotte', 'Ethel', 'Martha', 'Jessie', 'Amy', 'Mabel', 'Emma', 'Amy', 'Elsie', 'Susan', 'Lucy', 'Lucile', 'Rosalie', 'Charlotte', 'Clara', 'Martha', 'Dorothy', 'Adele', 'Lily', 'Laina', 'Marguerite', 'Hulda', 'Emelia', 'Fatima', 'Torborg', 'Selma', 'Jamila', 'Simonne', 'Josefine', 'Myna', 'Amelie', 'Erna', 'Brigdet', 'Matilda', 'Hileni', 'Katriina', 'Malake', 'Ellis', 'Grace', 'Sultana', 'Elin', 'Robina', 'Eleanor', 'Ann', 'Luise', 'Carla', 'Elise', 'Telma', 'Clear', 'Eliina', 'Albina', 'Irene', 'Thamine', 'Agda', 'Elna', 'Helena', 'Hanne', 'Gertrude', 'Gladys', 'Lutie', 'Delia', 'Kornelia', 'Aloisia', 'Nora', 'Laura', 'Helmina', 'Miriam', 'Margaretta', 'Hilda', 'Sylvia', 'Jean', 'Mantoura', 'Leontine', 'Stina', 'Leila', 'Aurora', '\"Mary\"', 'Elina', 'Mari', 'Daisy', 'Lulu', 'Lyyli', 'Catharina', 'Doolina', 'Esther', 'Encarnacion', 'Hildur', 'Jeannie', 'Bessie', 'Kristina', 'Roberta', 'Anne', 'Phyllis', 'Eva', 'Harriet', 'Ingeborg', 'Sigrid', 'Velin', 'Lucille', 'Tillie', 'Alma', 'Julie', 'Marian', 'Ruth', 'Juliette', 'Alfrida', 'Cordelia', 'Gretchen', 'Margit', 'Eugenie', 'Juliet', 'Katie', 'Georgette', 'Manca', 'Saiide', 'Caroline', 'Edwina', 'Margareth', 'Pieta', 'Joan', 'Eliza', 'Virginia', 'Banoura', 'Vera', 'Stella', 'Farnham', 'Mara', 'Ebba', 'Wendla', 'Beila', 'Selini', 'Sara', 'Edwiga', 'Nourelain', 'Lilian', 'Leah', 'Latifa', 'Karolina', 'Asuncion', 'Sallie', 'Hannah', 'Imanita', 'Gerda']\n"
     ]
    }
   ],
   "source": [
    "s = []\n",
    "# ex = []\n",
    "abbrs = [\"Miss.\", \"Mrs.\", \"Mlle.\", \"Mme.\", \"Ms.\"]\n",
    "for name in names:\n",
    "    begin = name.find(\"(\")\n",
    "    if begin > 0:\n",
    "        s.append(name[begin + 1 : name.find(\" \", begin)])\n",
    "        continue;\n",
    "    words = name.split()\n",
    "    for abbr in abbrs:\n",
    "        if abbr in words:\n",
    "            s.append(words[words.index(abbr) + 1])\n",
    "            break;\n",
    "#     if set(words).intersection(set(abbrs)) == set():\n",
    "#         ex.append(name)\n",
    "print(s)\n",
    "print(s[max(map(lambda name : [s.count(name), s.index(name)], s))[1]])\n",
    "print(sorted(s, key = lambda u : s.count(u), reverse=True))"
   ]
  },
  {
   "cell_type": "code",
   "execution_count": 115,
   "metadata": {},
   "outputs": [
    {
     "name": "stdout",
     "output_type": "stream",
     "text": [
      "[0.14751816 0.29538468 0.25658495 0.30051221]\n",
      "0.3005122109582393 0.2953846784065746\n"
     ]
    },
    {
     "data": {
      "text/html": [
       "<div>\n",
       "<style scoped>\n",
       "    .dataframe tbody tr th:only-of-type {\n",
       "        vertical-align: middle;\n",
       "    }\n",
       "\n",
       "    .dataframe tbody tr th {\n",
       "        vertical-align: top;\n",
       "    }\n",
       "\n",
       "    .dataframe thead th {\n",
       "        text-align: right;\n",
       "    }\n",
       "</style>\n",
       "<table border=\"1\" class=\"dataframe\">\n",
       "  <thead>\n",
       "    <tr style=\"text-align: right;\">\n",
       "      <th></th>\n",
       "      <th>Pclass</th>\n",
       "      <th>Fare</th>\n",
       "      <th>Age</th>\n",
       "      <th>Sex</th>\n",
       "    </tr>\n",
       "    <tr>\n",
       "      <th>PassengerId</th>\n",
       "      <th></th>\n",
       "      <th></th>\n",
       "      <th></th>\n",
       "      <th></th>\n",
       "    </tr>\n",
       "  </thead>\n",
       "  <tbody>\n",
       "    <tr>\n",
       "      <th>1</th>\n",
       "      <td>3</td>\n",
       "      <td>7.2500</td>\n",
       "      <td>22.0</td>\n",
       "      <td>0</td>\n",
       "    </tr>\n",
       "    <tr>\n",
       "      <th>2</th>\n",
       "      <td>1</td>\n",
       "      <td>71.2833</td>\n",
       "      <td>38.0</td>\n",
       "      <td>1</td>\n",
       "    </tr>\n",
       "    <tr>\n",
       "      <th>3</th>\n",
       "      <td>3</td>\n",
       "      <td>7.9250</td>\n",
       "      <td>26.0</td>\n",
       "      <td>1</td>\n",
       "    </tr>\n",
       "    <tr>\n",
       "      <th>4</th>\n",
       "      <td>1</td>\n",
       "      <td>53.1000</td>\n",
       "      <td>35.0</td>\n",
       "      <td>1</td>\n",
       "    </tr>\n",
       "    <tr>\n",
       "      <th>5</th>\n",
       "      <td>3</td>\n",
       "      <td>8.0500</td>\n",
       "      <td>35.0</td>\n",
       "      <td>0</td>\n",
       "    </tr>\n",
       "  </tbody>\n",
       "</table>\n",
       "</div>"
      ],
      "text/plain": [
       "             Pclass     Fare   Age  Sex\n",
       "PassengerId                            \n",
       "1                 3   7.2500  22.0    0\n",
       "2                 1  71.2833  38.0    1\n",
       "3                 3   7.9250  26.0    1\n",
       "4                 1  53.1000  35.0    1\n",
       "5                 3   8.0500  35.0    0"
      ]
     },
     "execution_count": 115,
     "metadata": {},
     "output_type": "execute_result"
    }
   ],
   "source": [
    "from sklearn.tree import DecisionTreeClassifier\n",
    "new_data = data[[\"Pclass\", \"Fare\", \"Age\", \"Sex\", \"Survived\"]].dropna(subset=[\"Age\"]).replace([\"male\", \"female\"], [0, 1])\n",
    "final_data = new_data.drop(\"Survived\", axis=1)\n",
    "result = new_data[\"Survived\"]\n",
    "result\n",
    "dtc = DecisionTreeClassifier(random_state=241)\n",
    "dtc.fit(final_data, result)\n",
    "importances = dtc.feature_importances_\n",
    "print(importances)\n",
    "print(\" \".join(map(str,sorted(importances, reverse=True)[:2])))\n",
    "final_data.head()"
   ]
  },
  {
   "cell_type": "code",
   "execution_count": 120,
   "metadata": {},
   "outputs": [
    {
     "name": "stderr",
     "output_type": "stream",
     "text": [
      "G:\\Anaconda3\\lib\\site-packages\\ipykernel_launcher.py:3: UserWarning: Boolean Series key will be reindexed to match DataFrame index.\n",
      "  This is separate from the ipykernel package so we can avoid doing imports until\n"
     ]
    },
    {
     "data": {
      "text/plain": [
       "<matplotlib.axes._subplots.AxesSubplot at 0x7e13f588>"
      ]
     },
     "execution_count": 120,
     "metadata": {},
     "output_type": "execute_result"
    },
    {
     "data": {
      "image/png": "[encoded data removed]",
      "text/plain": [
       "<Figure size 1440x720 with 1 Axes>"
      ]
     },
     "metadata": {
      "needs_background": "light"
     },
     "output_type": "display_data"
    }
   ],
   "source": [
    "import matplotlib as mpl\n",
    "ages = new_data[\"Age\"].value_counts()\n",
    "surv = [len(new_data[new_data[\"Age\"] == age][new_data[\"Survived\"] == 1]) for age in ages.index]\n",
    "graph = pd.DataFrame({\"ages\" : ages, \"surv\" : surv}).sort_index()\n",
    "graph.plot(kind = \"bar\", figsize = (20,10))"
   ]
  }
 ],
 "metadata": {
  "kernelspec": {
   "display_name": "Python 3",
   "language": "python",
   "name": "python3"
  },
  "language_info": {
   "codemirror_mode": {
    "name": "ipython",
    "version": 3
   },
   "file_extension": ".py",
   "mimetype": "text/x-python",
   "name": "python",
   "nbconvert_exporter": "python",
   "pygments_lexer": "ipython3",
   "version": "3.7.0"
  }
 },
 "nbformat": 4,
 "nbformat_minor": 2
}
