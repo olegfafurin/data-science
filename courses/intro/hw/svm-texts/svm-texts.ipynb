{
 "cells": [
  {
   "cell_type": "code",
   "execution_count": 1,
   "metadata": {},
   "outputs": [],
   "source": [
    "import pandas as pd\n",
    "from sklearn import *\n",
    "import sklearn as sl\n",
    "import numpy as np"
   ]
  },
  {
   "cell_type": "code",
   "execution_count": null,
   "metadata": {},
   "outputs": [],
   "source": [
    "newsgroups = datasets.fetch_20newsgroups(subset = 'all', categories = ['alt.atheism', 'sci.space'])"
   ]
  },
  {
   "cell_type": "code",
   "execution_count": null,
   "metadata": {},
   "outputs": [],
   "source": [
    "tf = sl.feature_extraction.text.TfidfVectorizer()\n",
    "data = tf.fit_transform(newsgroups.data)\n",
    "cv = model_selection.KFold(n_splits = 5, shuffle = True, random_state = 241)\n",
    "grid = {'C': np.power(10.0, np.arange(-5, 6))}\n",
    "model = svm.SVC(kernel = 'linear', random_state = 241)\n",
    "grid_search = model_selection.GridSearchCV(model, grid, scoring = 'accuracy', cv = cv)\n",
    "grid_search.fit(data,newsgroups.target)"
   ]
  },
  {
   "cell_type": "code",
   "execution_count": null,
   "metadata": {},
   "outputs": [],
   "source": [
    "C = grid_search.best_params_['C']\n",
    "model = svm.SVC(C = C, kernel = 'linear', random_state = 241)\n",
    "model.fit(data, newsgroups.target)\n",
    "rel = sorted(model.coef_.toarray()[0], key=abs, reverse=True)[:10]\n",
    "inds = list(map(list(model.coef_.toarray()[0]).index, rel))\n",
    "feature_mapping = tf.get_feature_names()\n",
    "f = open('most_relevant_words', 'w')\n",
    "words = [feature_mapping[index] for index in inds]\n",
    "f.write(\" \".join(sorted(words)))\n",
    "f.close()"
   ]
  }
 ],
 "metadata": {
  "kernelspec": {
   "display_name": "Python 3",
   "language": "python",
   "name": "python3"
  },
  "language_info": {
   "codemirror_mode": {
    "name": "ipython",
    "version": 3
   },
   "file_extension": ".py",
   "mimetype": "text/x-python",
   "name": "python",
   "nbconvert_exporter": "python",
   "pygments_lexer": "ipython3",
   "version": "3.7.0"
  }
 },
 "nbformat": 4,
 "nbformat_minor": 2
}
