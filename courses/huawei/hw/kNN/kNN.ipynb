{
 "cells": [
  {
   "cell_type": "code",
   "execution_count": 1,
   "metadata": {},
   "outputs": [],
   "source": [
    "import numpy as np, pandas as pd, math\n",
    "from sklearn.model_selection import LeaveOneOut\n",
    "import matplotlib, matplotlib.pyplot as plt"
   ]
  },
  {
   "cell_type": "code",
   "execution_count": 2,
   "metadata": {},
   "outputs": [],
   "source": [
    "def f_measure(conf):\n",
    "    n = len(conf)\n",
    "    cols = np.sum(conf, axis = 0)\n",
    "    rows = np.sum(conf, axis = 1)\n",
    "    precisions = np.array([conf[i][i] / cols[i] if (cols[i] != 0) else 0 for i in range(n)])\n",
    "    recalls = np.array([conf[i][i] / rows[i] if (rows[i] != 0) else 0 for i in range(n)])\n",
    "    fs = np.zeros(n)\n",
    "    for i in range(n):\n",
    "        if precisions[i] + recalls[i] == 0:\n",
    "            fs[i] = 0\n",
    "        else:\n",
    "            fs[i] = 2 * precisions[i] * recalls[i] / (precisions[i] + recalls[i])\n",
    "    return np.sum(fs * rows / np.sum(rows))"
   ]
  },
  {
   "cell_type": "code",
   "execution_count": 3,
   "metadata": {},
   "outputs": [],
   "source": [
    "raw_data = np.loadtxt(\"students.csv\",delimiter = ',', skiprows=1)\n",
    "y = pd.get_dummies(raw_data[:,-1]).to_numpy()\n",
    "X = np.delete(raw_data, -1, axis=1)\n",
    "means = X.mean(axis = 0)\n",
    "devs = X.std(axis=0)\n",
    "X = (X - means) / devs\n",
    "loo = LeaveOneOut()"
   ]
  },
  {
   "cell_type": "code",
   "execution_count": 4,
   "metadata": {},
   "outputs": [],
   "source": [
    "def manhattan(x, y):\n",
    "    return sum(abs(x - y))\n",
    "\n",
    "def euclidean(x, y):\n",
    "    return np.sqrt(sum((x - y) * (x - y)))\n",
    "\n",
    "def chebyshev(x, y):\n",
    "    return max(abs(x - y))\n",
    "\n",
    "dst = {\"manhattan\": manhattan, \"euclidean\": euclidean, \"chebyshev\": chebyshev}\n",
    "kernel = {\"uniform\": lambda x: 1 / 2 if -1 <= x <= 1 else 0,\n",
    "               \"triangular\": lambda x: max(1 - abs(x), 0),\n",
    "               \"epanechnikov\": lambda x: max(3 / 4 * (1 - x ** 2), 0),\n",
    "               \"quartic\": lambda x: max(15 / 16 * (1 - x ** 2) ** 2, 0),\n",
    "               \"tricube\": lambda x: max(70 / 81 * (1 - abs(x) ** 3) ** 3, 0),\n",
    "               \"triweight\": lambda x: max(0, 35 / 32 * (1 - x ** 2) ** 3),\n",
    "               \"gaussian\": lambda x: math.exp(- x ** 2 / 2) / math.sqrt(2 * math.pi),\n",
    "               \"cosine\": lambda x: max(0, (math.pi / 4) * math.cos(math.pi * x / 2)),\n",
    "               \"logistic\": lambda x: 1 / (2 + math.exp(x) + math.exp(-x)),\n",
    "               \"sigmoid\": lambda x: 2 / (math.pi * (math.exp(x) + math.exp(-x)))}"
   ]
  },
  {
   "cell_type": "code",
   "execution_count": 5,
   "metadata": {},
   "outputs": [],
   "source": [
    "def evaluate(kernel_cur, distance_cur, param, fixed):\n",
    "    confusion_matrix = np.zeros((5,5))\n",
    "    if fixed:\n",
    "        d = param\n",
    "    for train_index, test_index in loo.split(X):\n",
    "        X_train, X_test = X[train_index], X[test_index]\n",
    "        y_train, y_test=  y[train_index], y[test_index]\n",
    "        if not fixed:\n",
    "            d = sorted([distance_cur(X_test[0], x) for x in X_train])[param]          \n",
    "        a = np.array([kernel_cur(distance_cur(x, X_test[0]) / d) for x in X_train]).reshape(402,1)\n",
    "        if sum(a) == 0:\n",
    "            res = sum(y_train) / np.sum(y_train)\n",
    "        else:\n",
    "            res = a * y_train / sum(a)\n",
    "        prediction = np.argmax(sum(res))\n",
    "        true_value = np.argmax(y_test)\n",
    "        confusion_matrix[true_value][prediction] += 1\n",
    "    return confusion_matrix"
   ]
  },
  {
   "cell_type": "code",
   "execution_count": 6,
   "metadata": {},
   "outputs": [],
   "source": [
    "max_quality = 0\n",
    "for dist in list(dst.values()):\n",
    "    for kern in list(kernel.values()):\n",
    "        for k in range(1,15):\n",
    "            quality = f_measure(evaluate(kern, dist, k, False))\n",
    "            if quality > max_quality:\n",
    "                best_params = [dist, kern, k, False]\n",
    "                max_quality = quality\n",
    "        for h in np.arange(1,10):\n",
    "            quality = f_measure(evaluate(kern, dist, h, True))\n",
    "            if quality > max_quality:\n",
    "                best_params = [dist, kern, h, True]\n",
    "                max_quality = quality"
   ]
  },
  {
   "cell_type": "code",
   "execution_count": 7,
   "metadata": {},
   "outputs": [],
   "source": [
    "best_dist, best_kernel, best_k, best_mode = best_params\n",
    "quality = np.zeros(15)\n",
    "quality_fixed = list()\n",
    "for k in range(1,15):\n",
    "    quality[k] = f_measure(evaluate(best_kernel, best_dist, k, False))\n",
    "for h in np.arange(1, 10, 0.2):\n",
    "    quality_fixed.append(f_measure(evaluate(best_kernel, best_dist, h, True)))"
   ]
  },
  {
   "cell_type": "code",
   "execution_count": 8,
   "metadata": {},
   "outputs": [
    {
     "data": {
      "image/png": "[encoded data removed]",
      "text/plain": [
       "<Figure size 432x288 with 1 Axes>"
      ]
     },
     "metadata": {
      "needs_background": "light"
     },
     "output_type": "display_data"
    }
   ],
   "source": [
    "t = np.arange(1, 15)\n",
    "fig, ax = plt.subplots()\n",
    "ax.plot(t, quality[1:])\n",
    "ax.set(xlabel='number of neighbours', ylabel='F-measure', xticks=np.arange(1,15))\n",
    "ax.grid()\n",
    "plt.show()"
   ]
  },
  {
   "cell_type": "code",
   "execution_count": 9,
   "metadata": {
    "scrolled": true
   },
   "outputs": [
    {
     "data": {
      "image/png": "[encoded data removed]",
      "text/plain": [
       "<Figure size 432x288 with 1 Axes>"
      ]
     },
     "metadata": {
      "needs_background": "light"
     },
     "output_type": "display_data"
    }
   ],
   "source": [
    "t = np.arange(1,10,0.2)\n",
    "fig, ax = plt.subplots()\n",
    "ax.plot(t, quality_fixed)\n",
    "ax.set(xlabel='width', ylabel='F-measure', xticks=np.arange(0,10,0.5))\n",
    "ax.grid()\n",
    "plt.show()"
   ]
  },
  {
   "cell_type": "code",
   "execution_count": 11,
   "metadata": {},
   "outputs": [
    {
     "name": "stdout",
     "output_type": "stream",
     "text": [
      "best distance is manhattan\n",
      "best kernel is epanechnikov\n",
      "best fixed width is 2.6\n",
      "best kth neighbour is 8\n"
     ]
    }
   ],
   "source": [
    "print(\"best distance is \" + list(dst.keys())[list(dst.values()).index(best_dist)])\n",
    "print(\"best kernel is \" + list(kernel.keys())[list(kernel.values()).index(best_kernel)])\n",
    "print(\"best fixed width is \" + \"%0.1f\" % list(t)[np.argmax(quality_fixed)])\n",
    "print(\"best kth neighbour is \" + str(np.arange(0,15)[np.argmax(quality)]))"
   ]
  }
 ],
 "metadata": {
  "kernelspec": {
   "display_name": "Python 3",
   "language": "python",
   "name": "python3"
  },
  "language_info": {
   "codemirror_mode": {
    "name": "ipython",
    "version": 3
   },
   "file_extension": ".py",
   "mimetype": "text/x-python",
   "name": "python",
   "nbconvert_exporter": "python",
   "pygments_lexer": "ipython3",
   "version": "3.6.7"
  }
 },
 "nbformat": 4,
 "nbformat_minor": 2
}
