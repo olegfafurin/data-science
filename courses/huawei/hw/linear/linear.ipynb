{
 "cells": [
  {
   "cell_type": "code",
   "execution_count": 1,
   "metadata": {},
   "outputs": [],
   "source": [
    "import numpy as np, pandas as pd\n",
    "import numpy.linalg as la\n",
    "import matplotlib.pyplot as plt"
   ]
  },
  {
   "cell_type": "code",
   "execution_count": 2,
   "metadata": {},
   "outputs": [],
   "source": [
    "testFileName = \"LR\\\\3.txt\"\n",
    "f = open(testFileName, \"r\")\n",
    "m = int(f.readline())\n",
    "n = int(f.readline())\n",
    "X = np.empty((n, m), dtype=\"int64\")\n",
    "y = np.empty(n, dtype=\"int64\")\n",
    "for i in range(n):\n",
    "    s = f.readline().split()\n",
    "    X[i] = np.array(list(map(int, s[:-1])))\n",
    "    y[i] = int(s[-1])\n",
    "testSize = int(f.readline())\n",
    "X_test = np.empty((testSize, m),dtype=\"float64\")\n",
    "y_test = np.empty(testSize, dtype=\"float64\")\n",
    "for i in range(testSize):\n",
    "    s = f.readline().split()\n",
    "    X_test[i] = np.array(list(map(int, s[:-1])))\n",
    "    y_test[i] = int(s[-1])"
   ]
  },
  {
   "cell_type": "code",
   "execution_count": 3,
   "metadata": {},
   "outputs": [],
   "source": [
    "tra = np.transpose(X)\n",
    "em = np.matmul(la.inv(np.matmul(tra, X)), tra)\n",
    "w = np.matmul(em, y)"
   ]
  },
  {
   "cell_type": "code",
   "execution_count": 4,
   "metadata": {},
   "outputs": [
    {
     "data": {
      "text/plain": [
       "array([ 2.49685748e+08, -2.36742456e+08,  2.42250967e+08, -3.41244218e+08,\n",
       "       -1.21425436e+08,  8.63304074e+07, -1.06987995e+07,  6.38547294e+06,\n",
       "        5.04281470e+07])"
      ]
     },
     "execution_count": 4,
     "metadata": {},
     "output_type": "execute_result"
    }
   ],
   "source": [
    "X @ w"
   ]
  },
  {
   "cell_type": "code",
   "execution_count": 5,
   "metadata": {},
   "outputs": [
    {
     "data": {
      "text/plain": [
       "array([-3847371, -3103399, -2969206, -2952325, -2833366, -1799268,\n",
       "       -1765523, -1718664, -1242385], dtype=int64)"
      ]
     },
     "execution_count": 5,
     "metadata": {},
     "output_type": "execute_result"
    }
   ],
   "source": []
  }
 ],
 "metadata": {
  "kernelspec": {
   "display_name": "Python 3",
   "language": "python",
   "name": "python3"
  },
  "language_info": {
   "codemirror_mode": {
    "name": "ipython",
    "version": 3
   },
   "file_extension": ".py",
   "mimetype": "text/x-python",
   "name": "python",
   "nbconvert_exporter": "python",
   "pygments_lexer": "ipython3",
   "version": "3.6.7"
  }
 },
 "nbformat": 4,
 "nbformat_minor": 2
}
